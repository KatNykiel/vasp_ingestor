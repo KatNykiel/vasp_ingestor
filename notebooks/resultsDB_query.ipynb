{
 "cells": [
  {
   "cell_type": "code",
   "execution_count": null,
   "id": "b479d381",
   "metadata": {
    "ExecuteTime": {
     "end_time": "2023-03-01T15:06:07.451247Z",
     "start_time": "2023-03-01T15:06:04.756698Z"
    }
   },
   "outputs": [],
   "source": [
    "# Import libraries\n",
    "import os\n",
    "import pandas as pd\n",
    "\n",
    "# Import nanoHUB-specific libraries\n",
    "import nanohubremote as nr\n",
    "from simtool import findInstalledSimToolNotebooks,searchForSimTool\n",
    "from simtool import getSimToolInputs,getSimToolOutputs,Run\n",
    "\n"
   ]
  },
  {
   "cell_type": "code",
   "execution_count": null,
   "id": "2214e6b9",
   "metadata": {
    "ExecuteTime": {
     "end_time": "2023-03-01T15:06:07.596793Z",
     "start_time": "2023-03-01T15:06:07.456801Z"
    }
   },
   "outputs": [],
   "source": [
    "# Create a nanoHUB web services session\n",
    "auth_data = {\n",
    "    'grant_type' : 'tool',\n",
    "}\n",
    "with open(os.environ[\"SESSIONDIR\"]+\"/resources\") as file:\n",
    "    lines = [line.split(\" \", 1) for line in file.readlines()]\n",
    "    properties = {line[0].strip(): line[1].strip() for line in lines if len(line)==2}\n",
    "    auth_data[\"sessiontoken\"] = properties[\"session_token\"]\n",
    "    auth_data[\"sessionnum\"] = properties[\"sessionid\"]\n",
    "    \n",
    "session = nr.Sim2l(auth_data)"
   ]
  },
  {
   "cell_type": "code",
   "execution_count": null,
   "id": "cee625d7",
   "metadata": {
    "ExecuteTime": {
     "end_time": "2023-03-01T15:24:16.630156Z",
     "start_time": "2023-03-01T15:24:15.882138Z"
    }
   },
   "outputs": [],
   "source": [
    "# Query the vaspingestor tool for all runs submitted by Kat Nykiel\n",
    "tool = 'vaspingestor'\n",
    "\n",
    "installedSimToolNotebooks = findInstalledSimToolNotebooks(tool,returnString=True)\n",
    "print(installedSimToolNotebooks)\n",
    "cellrelaxdft = searchForSimTool(tool)\n",
    "\n",
    "req_json = session.requestPost('dbexplorer/dbexplorer/search?simtool=true', data={ 'filters': '[{\"field\": \"input.author\", \"operation\": \"=\", \"value\": \"Kat '\n",
    "             'Nykiel\"}]',\n",
    "  'limit': 100,\n",
    "  'results': '[\"output.structure\", \"output.composition\", '\n",
    "             '\"output.lattice_parameters\", \"output.lattice_angles\", '\n",
    "             '\"output.energy\", \"output.forces\", \"output.max_force\", '\n",
    "             '\"output.rms_force\", \"output.KPOINTS\", \"output.ENCUT\", '\n",
    "             '\"output.XC_functional\"]',\n",
    "  'revision': 0,\n",
    "  'tool': 'vaspingestor'}, timeout=20) # QUERY\n",
    "req_json = req_json.json()\n",
    "data = pd.DataFrame(req_json['results']).dropna().reset_index(drop=True) # Deleting columns with NaNs (you can comment this out)\n",
    "data.head()"
   ]
  },
  {
   "cell_type": "code",
   "execution_count": null,
   "id": "9f7ba789",
   "metadata": {
    "ExecuteTime": {
     "end_time": "2023-03-01T15:24:19.610394Z",
     "start_time": "2023-03-01T15:24:19.607793Z"
    }
   },
   "outputs": [],
   "source": [
    "data.shape"
   ]
  },
  {
   "cell_type": "code",
   "execution_count": null,
   "id": "d9c982e5",
   "metadata": {},
   "outputs": [],
   "source": []
  }
 ],
 "metadata": {
  "kernelspec": {
   "display_name": "Python 3.8",
   "language": "python",
   "name": "python3"
  },
  "language_info": {
   "codemirror_mode": {
    "name": "ipython",
    "version": 3
   },
   "file_extension": ".py",
   "mimetype": "text/x-python",
   "name": "python",
   "nbconvert_exporter": "python",
   "pygments_lexer": "ipython3",
   "version": "3.8.10"
  },
  "toc": {
   "base_numbering": 1,
   "nav_menu": {},
   "number_sections": true,
   "sideBar": true,
   "skip_h1_title": false,
   "title_cell": "Table of Contents",
   "title_sidebar": "Contents",
   "toc_cell": false,
   "toc_position": {},
   "toc_section_display": true,
   "toc_window_display": false
  },
  "varInspector": {
   "cols": {
    "lenName": 16,
    "lenType": 16,
    "lenVar": 40
   },
   "kernels_config": {
    "python": {
     "delete_cmd_postfix": "",
     "delete_cmd_prefix": "del ",
     "library": "var_list.py",
     "varRefreshCmd": "print(var_dic_list())"
    },
    "r": {
     "delete_cmd_postfix": ") ",
     "delete_cmd_prefix": "rm(",
     "library": "var_list.r",
     "varRefreshCmd": "cat(var_dic_list()) "
    }
   },
   "types_to_exclude": [
    "module",
    "function",
    "builtin_function_or_method",
    "instance",
    "_Feature"
   ],
   "window_display": false
  }
 },
 "nbformat": 4,
 "nbformat_minor": 5
}
