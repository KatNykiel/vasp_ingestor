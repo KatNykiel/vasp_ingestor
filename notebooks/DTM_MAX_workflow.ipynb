{
 "cells": [
  {
   "cell_type": "markdown",
   "id": "10f3bd8b",
   "metadata": {},
   "source": [
    "# DTM MAX Workflow\n",
    "### Kat Nykiel, Dr. Alejandro Strachan"
   ]
  },
  {
   "cell_type": "markdown",
   "id": "9019874e",
   "metadata": {
    "ExecuteTime": {
     "end_time": "2023-02-13T16:09:34.653440Z",
     "start_time": "2023-02-13T16:09:34.647471Z"
    }
   },
   "source": [
    "This notebook describes how results from the Sim2L might be used in practice. Here, we have a high-throughput dataset of double-transition metal (DTM) MAX phases.\n",
    "\n",
    "TODO: reuse from figures from the paper here?"
   ]
  },
  {
   "cell_type": "markdown",
   "id": "bbfa2520",
   "metadata": {},
   "source": [
    "## overview\n",
    "- query sim2L database?\n",
    "- or, just get df of results (maybe do this for testing and generating plots)\n",
    "- obtain additonal features specific to MXenes\n",
    "    - formation energy\n",
    "    - cohesive energy\n",
    "    - interlayer distances\n",
    "    - bond lengths\n",
    "- generate plots\n",
    "    - identical to plots in paper"
   ]
  },
  {
   "cell_type": "markdown",
   "id": "ebe48b95",
   "metadata": {},
   "source": [
    "## View Sim2L ResultsDB\n"
   ]
  },
  {
   "cell_type": "code",
   "execution_count": null,
   "id": "638581ce",
   "metadata": {
    "ExecuteTime": {
     "end_time": "2023-02-13T16:10:51.608224Z",
     "start_time": "2023-02-13T16:10:48.901403Z"
    }
   },
   "outputs": [],
   "source": [
    "# Import nanoHUB-specific libraries\n",
    "import nanohubremote as nr\n",
    "from simtool import findInstalledSimToolNotebooks,searchForSimTool\n",
    "from simtool import getSimToolInputs,getSimToolOutputs,Run"
   ]
  },
  {
   "cell_type": "code",
   "execution_count": null,
   "id": "a062e4c6",
   "metadata": {
    "ExecuteTime": {
     "end_time": "2023-02-09T18:29:09.041257Z",
     "start_time": "2023-02-09T18:29:08.863426Z"
    }
   },
   "outputs": [],
   "source": [
    "# Reuse the current nanoHUB session \n",
    "auth_data = {\n",
    "    'grant_type' : 'tool',\n",
    "}\n",
    "with open(os.environ[\"SESSIONDIR\"]+\"/resources\") as file:\n",
    "    lines = [line.split(\" \", 1) for line in file.readlines()]\n",
    "    properties = {line[0].strip(): line[1].strip() for line in lines if len(line)==2}\n",
    "    auth_data[\"sessiontoken\"] = properties[\"session_token\"]\n",
    "    auth_data[\"sessionnum\"] = properties[\"sessionid\"]\n",
    "    \n",
    "# Create a nanoHUB web services session\n",
    "session = nr.Sim2l(auth_data)"
   ]
  },
  {
   "cell_type": "code",
   "execution_count": null,
   "id": "e6c7724a",
   "metadata": {
    "ExecuteTime": {
     "end_time": "2023-02-09T18:29:14.306500Z",
     "start_time": "2023-02-09T18:29:13.117921Z"
    }
   },
   "outputs": [],
   "source": [
    "tool = 'vaspingestor'\n",
    "\n",
    "installedSimToolNotebooks = findInstalledSimToolNotebooks(tool,returnString=True)\n",
    "print(installedSimToolNotebooks)\n",
    "cellrelaxdft = searchForSimTool(tool)\n",
    "\n",
    "req_json = session.requestPost('dbexplorer/dbexplorer/tool_detail?simtool=true', data={'tool': tool})\n",
    "req_json = req_json.json()\n",
    "parameters = req_json['results']\n",
    "\n",
    "inputs = np.array(list(parameters[0][tool]['input'].keys()))\n",
    "inputs = np.reshape(inputs,(-1,1))\n",
    "outputs = np.array(list(parameters[0][tool]['output'].keys()))\n",
    "outputs = np.reshape(outputs,(-1,1))\n",
    "input_df = pd.DataFrame(inputs, columns=[\"Inputs\"])\n",
    "output_df = pd.DataFrame(outputs, columns=[\"Outputs\"])\n",
    "display(input_df)\n",
    "display(output_df)"
   ]
  },
  {
   "cell_type": "code",
   "execution_count": null,
   "id": "6f999ee7",
   "metadata": {},
   "outputs": [],
   "source": []
  }
 ],
 "metadata": {
  "kernelspec": {
   "display_name": "Python 3.8",
   "language": "python",
   "name": "python3"
  },
  "language_info": {
   "codemirror_mode": {
    "name": "ipython",
    "version": 3
   },
   "file_extension": ".py",
   "mimetype": "text/x-python",
   "name": "python",
   "nbconvert_exporter": "python",
   "pygments_lexer": "ipython3",
   "version": "3.8.10"
  },
  "toc": {
   "base_numbering": 1,
   "nav_menu": {},
   "number_sections": true,
   "sideBar": true,
   "skip_h1_title": false,
   "title_cell": "Table of Contents",
   "title_sidebar": "Contents",
   "toc_cell": false,
   "toc_position": {},
   "toc_section_display": true,
   "toc_window_display": false
  },
  "varInspector": {
   "cols": {
    "lenName": 16,
    "lenType": 16,
    "lenVar": 40
   },
   "kernels_config": {
    "python": {
     "delete_cmd_postfix": "",
     "delete_cmd_prefix": "del ",
     "library": "var_list.py",
     "varRefreshCmd": "print(var_dic_list())"
    },
    "r": {
     "delete_cmd_postfix": ") ",
     "delete_cmd_prefix": "rm(",
     "library": "var_list.r",
     "varRefreshCmd": "cat(var_dic_list()) "
    }
   },
   "types_to_exclude": [
    "module",
    "function",
    "builtin_function_or_method",
    "instance",
    "_Feature"
   ],
   "window_display": false
  }
 },
 "nbformat": 4,
 "nbformat_minor": 5
}
