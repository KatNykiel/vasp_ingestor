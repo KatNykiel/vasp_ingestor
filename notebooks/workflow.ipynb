{
 "cells": [
  {
   "cell_type": "markdown",
   "id": "10f3bd8b",
   "metadata": {},
   "source": [
    "# VASP Ingstor Workflow\n",
    "### Kat Nykiel, Dr. Alejandro Strachan\n",
    "Convert an atomate2 TaskDocument json file to an interpretable set of features"
   ]
  },
  {
   "cell_type": "code",
   "execution_count": null,
   "id": "af02ac20",
   "metadata": {
    "ExecuteTime": {
     "end_time": "2023-02-10T18:56:55.724890Z",
     "start_time": "2023-02-10T18:56:55.722016Z"
    },
    "code_folding": []
   },
   "outputs": [],
   "source": [
    "# Import libraries\n",
    "import numpy as np\n",
    "import json\n",
    "import os\n",
    "import pandas as pd\n",
    "\n",
    "# Import nanoHUB-specific libraries\n",
    "import nanohubremote as nr\n",
    "from simtool import findInstalledSimToolNotebooks,searchForSimTool\n",
    "from simtool import getSimToolInputs,getSimToolOutputs,Run"
   ]
  },
  {
   "cell_type": "markdown",
   "id": "f306a9d7",
   "metadata": {},
   "source": [
    "## Load Atomate2 TaskDocuments\n",
    "\n",
    "This Sim2L uses parsed results in the form of TaskDocuments from [atomate2](https://github.com/materialsproject/atomate2). \n",
    "\n",
    "These documents are obtained from VASP using Atomate2's [VaspDrone](https://materialsproject.github.io/atomate2/reference/atomate2.vasp.drones.VaspDrone.html#atomate2.vasp.drones.VaspDrone), saved as json files. For example, running the following in a directory of VASP results would provide a TaskDocument json file\n",
    "\n",
    "```\n",
    "# Import libraries\n",
    "from atomate2.vasp.drones import VaspDrone\n",
    "from monty.json import jsanitize\n",
    "\n",
    "# Parse results with atomate2\n",
    "drone = VaspDrone()\n",
    "doc = drone.assimilate()\n",
    "doc = jsanitize(doc.dict(),recursive_msonable=True)\n",
    "\n",
    "# Save results as json file\n",
    "with open('doc.json','w',encoding='utf-8') as f_o:\n",
    "    json.dump(doc,f_o)\n",
    "```\n",
    "\n",
    "These documents contain most information about the VASP run; however, its large size means it is not easily queryable. The purpose of this Sim2L is to extract relevant features from this schema which can further be used in machine learning workflows, in accordance with [FAIR data principles](https://www.go-fair.org/fair-principles/)\n",
    "\n",
    "**TODO: publish scripts on atomate2? not my work, feels icky to publish a tutorial on someone else's work**"
   ]
  },
  {
   "cell_type": "code",
   "execution_count": null,
   "id": "0926708b",
   "metadata": {
    "ExecuteTime": {
     "end_time": "2023-02-10T18:56:58.580959Z",
     "start_time": "2023-02-10T18:56:56.317560Z"
    }
   },
   "outputs": [],
   "source": [
    "# Load json file\n",
    "with open('../../dtmmax/examples/DTM_example','r') as f:\n",
    "    docs = json.load(f)   "
   ]
  },
  {
   "cell_type": "markdown",
   "id": "01a2a1fc",
   "metadata": {},
   "source": [
    "## Load Sim2L"
   ]
  },
  {
   "cell_type": "code",
   "execution_count": null,
   "id": "c37db2cb",
   "metadata": {
    "ExecuteTime": {
     "end_time": "2023-02-10T18:58:27.077072Z",
     "start_time": "2023-02-10T18:58:27.071434Z"
    },
    "scrolled": true
   },
   "outputs": [],
   "source": [
    "# Load the Sim2L\n",
    "simToolName = \"vaspingestor\"\n",
    "simToolLocation = searchForSimTool(simToolName)\n",
    "for key in simToolLocation.keys():\n",
    "    print(\"%18s = %s\" % (key,simToolLocation[key]))\n",
    "    \n",
    "installedSimToolNotebooks = findInstalledSimToolNotebooks(simToolName,returnString=True)\n",
    "print(installedSimToolNotebooks)"
   ]
  },
  {
   "cell_type": "code",
   "execution_count": null,
   "id": "f3552d52",
   "metadata": {
    "ExecuteTime": {
     "end_time": "2023-02-10T18:58:36.132007Z",
     "start_time": "2023-02-10T18:58:36.113972Z"
    },
    "scrolled": true
   },
   "outputs": [],
   "source": [
    "# Get the list of inputs\n",
    "inputs = getSimToolInputs(simToolLocation)\n",
    "print(inputs)"
   ]
  },
  {
   "cell_type": "code",
   "execution_count": null,
   "id": "9b7ef970",
   "metadata": {
    "ExecuteTime": {
     "end_time": "2023-02-10T18:58:45.239464Z",
     "start_time": "2023-02-10T18:58:45.228649Z"
    },
    "scrolled": true
   },
   "outputs": [],
   "source": [
    "# Get the list of outputs\n",
    "outputs = getSimToolOutputs(simToolLocation)\n",
    "print(outputs)"
   ]
  },
  {
   "cell_type": "markdown",
   "id": "15340a0c",
   "metadata": {},
   "source": [
    "## Submit Sim2L sequentially"
   ]
  },
  {
   "cell_type": "code",
   "execution_count": null,
   "id": "ada4b042",
   "metadata": {
    "ExecuteTime": {
     "end_time": "2023-02-10T18:58:54.340893Z",
     "start_time": "2023-02-10T18:58:54.338348Z"
    }
   },
   "outputs": [],
   "source": [
    "inputs['doc'].value = docs[0]\n",
    "inputs['author'].value = \"Kat Nykiel\"\n",
    "inputs['dataset'].value = \"DTM_MAX\""
   ]
  },
  {
   "cell_type": "code",
   "execution_count": null,
   "id": "6f1c0460",
   "metadata": {
    "ExecuteTime": {
     "end_time": "2023-02-10T18:59:14.119317Z",
     "start_time": "2023-02-10T18:59:03.356346Z"
    },
    "scrolled": false
   },
   "outputs": [],
   "source": [
    "r = Run(simToolLocation,inputs)"
   ]
  },
  {
   "cell_type": "code",
   "execution_count": null,
   "id": "f211f644",
   "metadata": {
    "ExecuteTime": {
     "end_time": "2023-02-10T18:59:23.214961Z",
     "start_time": "2023-02-10T18:59:23.200726Z"
    }
   },
   "outputs": [],
   "source": [
    "r.getResultSummary()"
   ]
  },
  {
   "cell_type": "markdown",
   "id": "e3ed8ce9",
   "metadata": {},
   "source": [
    "## Submit Sim2L in parallel\n",
    "TODO: modify script for dtmmax tool once installed"
   ]
  },
  {
   "cell_type": "code",
   "execution_count": null,
   "id": "a062e4c6",
   "metadata": {
    "ExecuteTime": {
     "end_time": "2023-02-10T15:49:24.621160Z",
     "start_time": "2023-02-10T15:49:24.436658Z"
    }
   },
   "outputs": [],
   "source": [
    "# Reuse the current nanoHUB session \n",
    "auth_data = {\n",
    "    'grant_type' : 'tool',\n",
    "}\n",
    "with open(os.environ[\"SESSIONDIR\"]+\"/resources\") as file:\n",
    "    lines = [line.split(\" \", 1) for line in file.readlines()]\n",
    "    properties = {line[0].strip(): line[1].strip() for line in lines if len(line)==2}\n",
    "    auth_data[\"sessiontoken\"] = properties[\"session_token\"]\n",
    "    auth_data[\"sessionnum\"] = properties[\"sessionid\"]\n",
    "    \n",
    "# Create a nanoHUB web services session\n",
    "session = nr.Sim2l(auth_data)"
   ]
  },
  {
   "cell_type": "code",
   "execution_count": null,
   "id": "7178ee27",
   "metadata": {
    "ExecuteTime": {
     "end_time": "2023-02-10T15:49:29.815182Z",
     "start_time": "2023-02-10T15:49:28.962873Z"
    }
   },
   "outputs": [],
   "source": [
    "# Query tool inputs\n",
    "toolname = 'vaspingestor'\n",
    "params = session.getToolParameters(toolname)\n",
    "pd.DataFrame([p.to_dict() for p in params.values()])"
   ]
  },
  {
   "cell_type": "code",
   "execution_count": null,
   "id": "476de114",
   "metadata": {
    "ExecuteTime": {
     "end_time": "2023-02-10T15:50:58.290897Z",
     "start_time": "2023-02-10T15:50:58.288065Z"
    }
   },
   "outputs": [],
   "source": [
    "# Modify inputs\n",
    "params['doc'].current=docs"
   ]
  },
  {
   "cell_type": "code",
   "execution_count": null,
   "id": "75a8673a",
   "metadata": {
    "ExecuteTime": {
     "end_time": "2023-02-10T15:51:06.700524Z",
     "start_time": "2023-02-10T15:51:02.535076Z"
    }
   },
   "outputs": [],
   "source": [
    "# Submit Sim2L job\n",
    "job_id = session.submitTool(params)"
   ]
  },
  {
   "cell_type": "code",
   "execution_count": null,
   "id": "3dcdcf7b",
   "metadata": {
    "ExecuteTime": {
     "end_time": "2023-02-10T15:52:11.864457Z",
     "start_time": "2023-02-10T15:51:18.255423Z"
    }
   },
   "outputs": [],
   "source": [
    "# Check job status\n",
    "import time\n",
    "import pprint\n",
    "from IPython.display import clear_output\n",
    "\n",
    "for i in range(100):\n",
    "    pprint.pprint(session.checkStatus(job_id['job_id']))\n",
    "    time.sleep(5)\n",
    "    clear_output(wait=True)"
   ]
  },
  {
   "cell_type": "code",
   "execution_count": null,
   "id": "95cfee2f",
   "metadata": {
    "ExecuteTime": {
     "end_time": "2023-02-10T15:52:14.398602Z",
     "start_time": "2023-02-10T15:52:13.422993Z"
    }
   },
   "outputs": [],
   "source": [
    "# Retrieve results\n",
    "results = session.getResults(job_id['job_id'])"
   ]
  },
  {
   "cell_type": "markdown",
   "id": "ebe48b95",
   "metadata": {},
   "source": [
    "## View Sim2L ResultsDB"
   ]
  },
  {
   "cell_type": "code",
   "execution_count": null,
   "id": "e6c7724a",
   "metadata": {
    "ExecuteTime": {
     "end_time": "2023-02-09T18:29:14.306500Z",
     "start_time": "2023-02-09T18:29:13.117921Z"
    }
   },
   "outputs": [],
   "source": [
    "tool = 'vaspingestor'\n",
    "\n",
    "installedSimToolNotebooks = findInstalledSimToolNotebooks(tool,returnString=True)\n",
    "print(installedSimToolNotebooks)\n",
    "cellrelaxdft = searchForSimTool(tool)\n",
    "\n",
    "req_json = session.requestPost('dbexplorer/dbexplorer/tool_detail?simtool=true', data={'tool': tool})\n",
    "req_json = req_json.json()\n",
    "parameters = req_json['results']\n",
    "\n",
    "inputs = np.array(list(parameters[0][tool]['input'].keys()))\n",
    "inputs = np.reshape(inputs,(-1,1))\n",
    "outputs = np.array(list(parameters[0][tool]['output'].keys()))\n",
    "outputs = np.reshape(outputs,(-1,1))\n",
    "input_df = pd.DataFrame(inputs, columns=[\"Inputs\"])\n",
    "output_df = pd.DataFrame(outputs, columns=[\"Outputs\"])\n",
    "display(input_df)\n",
    "display(output_df)"
   ]
  },
  {
   "cell_type": "code",
   "execution_count": null,
   "id": "6f999ee7",
   "metadata": {},
   "outputs": [],
   "source": []
  }
 ],
 "metadata": {
  "kernelspec": {
   "display_name": "Python 3.8",
   "language": "python",
   "name": "python3"
  },
  "language_info": {
   "codemirror_mode": {
    "name": "ipython",
    "version": 3
   },
   "file_extension": ".py",
   "mimetype": "text/x-python",
   "name": "python",
   "nbconvert_exporter": "python",
   "pygments_lexer": "ipython3",
   "version": "3.8.10"
  },
  "toc": {
   "base_numbering": 1,
   "nav_menu": {},
   "number_sections": true,
   "sideBar": true,
   "skip_h1_title": false,
   "title_cell": "Table of Contents",
   "title_sidebar": "Contents",
   "toc_cell": false,
   "toc_position": {},
   "toc_section_display": true,
   "toc_window_display": false
  },
  "varInspector": {
   "cols": {
    "lenName": 16,
    "lenType": 16,
    "lenVar": 40
   },
   "kernels_config": {
    "python": {
     "delete_cmd_postfix": "",
     "delete_cmd_prefix": "del ",
     "library": "var_list.py",
     "varRefreshCmd": "print(var_dic_list())"
    },
    "r": {
     "delete_cmd_postfix": ") ",
     "delete_cmd_prefix": "rm(",
     "library": "var_list.r",
     "varRefreshCmd": "cat(var_dic_list()) "
    }
   },
   "types_to_exclude": [
    "module",
    "function",
    "builtin_function_or_method",
    "instance",
    "_Feature"
   ],
   "window_display": false
  }
 },
 "nbformat": 4,
 "nbformat_minor": 5
}
